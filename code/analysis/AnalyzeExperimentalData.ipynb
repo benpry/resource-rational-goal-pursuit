{
 "cells": [
  {
   "cell_type": "code",
   "execution_count": 1,
   "metadata": {},
   "outputs": [
    {
     "name": "stderr",
     "output_type": "stream",
     "text": [
      "Matplotlib is building the font cache; this may take a moment.\n"
     ]
    }
   ],
   "source": [
    "import pandas as pd\n",
    "import numpy as np\n",
    "from scipy import stats\n",
    "from ast import literal_eval\n",
    "from sklearn.cluster import DBSCAN\n",
    "from sklearn.mixture import GaussianMixture\n",
    "from sklearn.manifold import TSNE\n",
    "from sklearn.decomposition import PCA\n",
    "import matplotlib.pyplot as plt\n",
    "from collections import defaultdict"
   ]
  },
  {
   "cell_type": "markdown",
   "metadata": {},
   "source": [
    "Read each fitting results file and print the fitting criteria and mean parameters"
   ]
  },
  {
   "cell_type": "code",
   "execution_count": 2,
   "metadata": {},
   "outputs": [
    {
     "name": "stdout",
     "output_type": "stream",
     "text": [
      "agent type: lqr, n=111\n",
      "lqr llh: -13578.458299080587\n",
      "lqr AIC: 27600.916598161173\n",
      "lqr llh mean: -122.32845314487015\n",
      "lqr AIC mean: 248.6569062897403\n",
      "Unnamed: 0            0.000000\n",
      "Unnamed: 0.1          0.000000\n",
      "exp_param             0.009396\n",
      "vm_param              1.458915\n",
      "weighting             0.400000\n",
      "pp_closeness        326.000829\n",
      "pp_final_reached      0.198198\n",
      "ll                 -122.328453\n",
      "AIC                 248.656906\n",
      "dtype: float64\n",
      "agent type: sparse_lqr, n=111\n",
      "sparse_lqr llh: -9159.339862559455\n",
      "sparse_lqr AIC: 18762.67972511891\n",
      "sparse_lqr llh mean: -82.51657533837347\n",
      "sparse_lqr AIC mean: 169.03315067674694\n",
      "Unnamed: 0            0.000000\n",
      "Unnamed: 0.1          0.000000\n",
      "attention_cost      116.182952\n",
      "exp_param             0.049588\n",
      "vm_param              3.984658\n",
      "weighting             0.400000\n",
      "pp_closeness        326.000829\n",
      "pp_final_reached      0.198198\n",
      "ll                  -82.516575\n",
      "AIC                 169.033151\n",
      "dtype: float64\n",
      "agent type: sparse_max_discrete, n=111\n",
      "sparse_max_discrete llh: -8772.779374119118\n",
      "sparse_max_discrete AIC: 18433.558748238236\n",
      "sparse_max_discrete llh mean: -79.03404841548755\n",
      "sparse_max_discrete AIC mean: 166.0680968309751\n",
      "attention cost\n",
      "16.802337625486356\n",
      "9.573613330530074\n",
      "step size\n",
      "0.22957469832240798\n",
      "0.32909595816778797\n",
      "Unnamed: 0                     0.000000e+00\n",
      "Unnamed: 0.1                   0.000000e+00\n",
      "attention_cost                 1.680234e+01\n",
      "exp_param                      5.532451e-02\n",
      "step_size                      2.295747e-01\n",
      "vm_param                       4.368693e+00\n",
      "weighting                      4.000000e-01\n",
      "explained_var                 -2.686625e+06\n",
      "avg_closeness_fittted_agent    1.687820e+02\n",
      "final_reached_fitted_agent     2.702703e-01\n",
      "pp_closeness                   3.260008e+02\n",
      "pp_final_reached               1.981982e-01\n",
      "ll                            -7.903405e+01\n",
      "AIC                            1.660681e+02\n",
      "dtype: float64\n",
      "agent type: sparse_max_continuous, n=111\n",
      "sparse_max_continuous llh: -8853.365905241642\n",
      "sparse_max_continuous AIC: 18594.731810483285\n",
      "sparse_max_continuous llh mean: -79.76005320037515\n",
      "sparse_max_continuous AIC mean: 167.5201064007503\n",
      "attention cost\n",
      "13.228955690855182\n",
      "9.715265096405613\n",
      "step size\n",
      "0.18461092441461596\n",
      "0.27642216936446196\n",
      "Unnamed: 0                     0.000000e+00\n",
      "Unnamed: 0.1                   0.000000e+00\n",
      "attention_cost                 1.322896e+01\n",
      "exp_param                      5.281987e-02\n",
      "step_size                      1.846109e-01\n",
      "vm_param                       4.299031e+00\n",
      "weighting                      4.000000e-01\n",
      "explained_var                 -1.548305e+06\n",
      "avg_closeness_fittted_agent   -1.951042e+02\n",
      "final_reached_fitted_agent     2.702703e-02\n",
      "pp_closeness                   3.260008e+02\n",
      "pp_final_reached               1.981982e-01\n",
      "ll                            -7.976005e+01\n",
      "AIC                            1.675201e+02\n",
      "dtype: float64\n",
      "agent type: null_model_1, n=111\n",
      "null_model_1 llh: -10106.524004295854\n",
      "null_model_1 AIC: 21101.048008591708\n",
      "null_model_1 llh mean: -91.04976580446716\n",
      "null_model_1 AIC mean: 190.0995316089343\n",
      "Unnamed: 0            0.000000\n",
      "Unnamed: 0.1          0.000000\n",
      "b                     5.064902\n",
      "exp_param             0.040194\n",
      "n                     2.205582\n",
      "vm_param              3.321739\n",
      "weighting             0.400000\n",
      "pp_closeness        326.000829\n",
      "pp_final_reached      0.198198\n",
      "ll                  -91.049766\n",
      "AIC                 190.099532\n",
      "dtype: float64\n",
      "agent type: null_model_2, n=111\n",
      "null_model_2 llh: -9261.105265666754\n",
      "null_model_2 AIC: 18966.21053133351\n",
      "null_model_2 llh mean: -83.43338077177256\n",
      "null_model_2 AIC mean: 170.86676154354512\n",
      "Unnamed: 0            0.000000\n",
      "Unnamed: 0.1          0.000000\n",
      "exp_param             0.040285\n",
      "vm_param              3.929937\n",
      "weighting             0.400000\n",
      "pp_closeness        326.000829\n",
      "pp_final_reached      0.198198\n",
      "ll                  -83.433381\n",
      "AIC                 170.866762\n",
      "dtype: float64\n",
      "agent type: hill_climbing, n=111\n",
      "hill_climbing llh: -8687.948497845762\n",
      "hill_climbing AIC: 18041.896995691524\n",
      "hill_climbing llh mean: -78.26980628689876\n",
      "hill_climbing AIC mean: 162.5396125737975\n",
      "Unnamed: 0            0.000000\n",
      "Unnamed: 0.1          0.000000\n",
      "attention_cost        0.000000\n",
      "exp_param             0.051849\n",
      "step_size             0.290366\n",
      "vm_param              4.532436\n",
      "weighting             0.400000\n",
      "pp_closeness        326.000829\n",
      "pp_final_reached      0.198198\n",
      "ll                  -78.269806\n",
      "AIC                 162.539613\n",
      "dtype: float64\n"
     ]
    }
   ],
   "source": [
    "DATA_DIR = \"../../data/fitting_results\"\n",
    "FIGURE_DIR = \"../../figures\"\n",
    "all_model_dfs = {}\n",
    "for agent_type in ['lqr', 'sparse_lqr', 'sparse_max_discrete', 'sparse_max_continuous', 'null_model_1', 'null_model_2', 'hill_climbing']:\n",
    "    df = pd.read_csv(f\"{DATA_DIR}/fitting_results_{agent_type}.csv\")\n",
    "    print(f\"agent type: {agent_type}, n={len(df)}\")\n",
    "    all_model_dfs[agent_type] = df\n",
    "    print(f\"{agent_type} llh: {df['ll'].sum()}\")\n",
    "    print(f\"{agent_type} AIC: {df['AIC'].sum()}\")\n",
    "    print(f\"{agent_type} llh mean: {df['ll'].mean()}\")\n",
    "    print(f\"{agent_type} AIC mean: {df['AIC'].mean()}\")\n",
    "    if agent_type in ('sparse_max_discrete', 'sparse_max_continuous'):\n",
    "        print(\"attention cost\")\n",
    "        print(df['attention_cost'].mean())\n",
    "        print(df['attention_cost'].std())\n",
    "        print(\"step size\")\n",
    "        print(df['step_size'].mean())\n",
    "        print(df['step_size'].std())\n",
    "    elif agent_type == \"nul_model_1\":\n",
    "        print(\"n\")\n",
    "        print(df['n'].mean())\n",
    "        print(\"b\")\n",
    "        print(df['b'].mean())\n",
    "    print(df.mean())"
   ]
  },
  {
   "cell_type": "code",
   "execution_count": 3,
   "metadata": {},
   "outputs": [],
   "source": [
    "pp_nrs = pd.read_csv('../../data/experimental_data/experiment_ppids.csv')['id']"
   ]
  },
  {
   "cell_type": "markdown",
   "metadata": {},
   "source": [
    "Get the number of participants best fit by each model, as well as the strength of evidence for the best model over the second-best model for each participant"
   ]
  },
  {
   "cell_type": "code",
   "execution_count": 7,
   "metadata": {},
   "outputs": [
    {
     "name": "stdout",
     "output_type": "stream",
     "text": [
      "defaultdict(<class 'int'>, {'null_model_2': 5, 'sparse_lqr': 35, 'sparse_max_discrete': 19, 'hill_climbing': 33, 'sparse_max_continuous': 14, 'null_model_1': 5})\n"
     ]
    }
   ],
   "source": [
    "evidence_strengths = []\n",
    "evidence_vs_lqr = []\n",
    "models_by_best_fitting_pps = defaultdict(int)\n",
    "participant_to_best_model = {}\n",
    "for pp_id in pp_nrs:\n",
    "    participant_fits = {}\n",
    "    for agent_type in ['lqr', 'sparse_lqr', 'sparse_max_discrete', 'sparse_max_continuous', 'null_model_1', 'null_model_2', 'hill_climbing']:\n",
    "        df = all_model_dfs[agent_type]\n",
    "\n",
    "        if len(df[df['pp_id'] == pp_id]['AIC']) != 1:\n",
    "            print(\"len:\", len(df[df['pp_id'] == pp_id]['AIC']))\n",
    "            break\n",
    "        participant_fits[agent_type] = int(df[df['pp_id'] == pp_id]['AIC'])\n",
    "\n",
    "    if len(df[df['pp_id'] == pp_id]) != 1:\n",
    "        continue\n",
    "    \n",
    "    sorted_fits = sorted(participant_fits.values())\n",
    "    evidence_strengths.append(sorted_fits[1] - sorted_fits[0])\n",
    "    best_agent = min(participant_fits, key=participant_fits.get)\n",
    "    \n",
    "    evidence_vs_lqr.append(participant_fits['lqr'] - participant_fits[best_agent])\n",
    "    \n",
    "    models_by_best_fitting_pps[best_agent] += 1\n",
    "    participant_to_best_model[pp_id] = best_agent\n",
    "\n",
    "print(models_by_best_fitting_pps)"
   ]
  },
  {
   "cell_type": "markdown",
   "metadata": {},
   "source": [
    "Create csv files for Bayesian model selection (done using SPM8)"
   ]
  },
  {
   "cell_type": "code",
   "execution_count": 8,
   "metadata": {},
   "outputs": [],
   "source": [
    "df_aics = pd.DataFrame()\n",
    "for df_type in all_model_dfs:\n",
    "    # convert AICs to log model evidence format\n",
    "    df_aics[df_type] = all_model_dfs[df_type]['AIC'].apply(lambda x: -x/2)\n",
    "df_aics.to_csv(f\"{DATA_DIR}/aic_lme.csv\")\n",
    "\n",
    "n_params = {\"null_model_2\": 2, \"null_model_1\": 2, \"lqr\": 2, \"sparse_lqr\": 3, \"hill_climbing\": 3, \"sparse_max_continuous\": 4, \"sparse_max_discrete\": 4}\n",
    "df_bics = pd.DataFrame()\n",
    "for df_type in all_model_dfs:\n",
    "    # convert BICs to log model evidence format\n",
    "    df_bics[df_type] = all_model_dfs[df_type][\"ll\"].apply(lambda x: - (n_params[df_type] * np.log(10) - 2 * x) / 2)\n",
    "df_bics.to_csv(f\"{DATA_DIR}/bic_lme.csv\")"
   ]
  },
  {
   "cell_type": "code",
   "execution_count": 9,
   "metadata": {},
   "outputs": [],
   "source": [
    "# make a csv file with the best-fitting model and parameters for each participant\n",
    "df_bestfit = pd.DataFrame()\n",
    "for pp_id in pp_nrs:\n",
    "    best_model_type = participant_to_best_model[pp_id]\n",
    "    df = all_model_dfs[best_model_type]\n",
    "    row = df[df['pp_id'] == pp_id]\n",
    "    df_bestfit = df_bestfit.append(row, ignore_index=True)\n",
    "df_bestfit.to_csv(f\"{DATA_DIR}/best_fitting_models.csv\")"
   ]
  },
  {
   "cell_type": "markdown",
   "metadata": {},
   "source": [
    "Get the mean best-fitting parameter for each model type"
   ]
  },
  {
   "cell_type": "code",
   "execution_count": 10,
   "metadata": {},
   "outputs": [
    {
     "name": "stdout",
     "output_type": "stream",
     "text": [
      "MODEL TYPE: null_model_2\n",
      "exp param: 0.039420720751089\n",
      "vm param: 7.211591413685933\n",
      "step size: nan\n",
      "attention cost: nan\n",
      "MODEL TYPE: sparse_lqr\n",
      "exp param: 0.050227972283853194\n",
      "vm param: 4.013540609727606\n",
      "step size: nan\n",
      "attention cost: 116.5172797925814\n",
      "MODEL TYPE: sparse_max_discrete\n",
      "exp param: 0.10524875241080169\n",
      "vm param: 3.6682292021230665\n",
      "step size: 0.5682686980021202\n",
      "attention cost: 17.371457833275326\n",
      "MODEL TYPE: hill_climbing\n",
      "exp param: 0.06454042938849362\n",
      "vm param: 6.10480054790791\n",
      "step size: 0.4676071985558782\n",
      "attention cost: 0.0\n",
      "MODEL TYPE: sparse_max_continuous\n",
      "exp param: 0.03139766637229615\n",
      "vm param: 5.217613833036479\n",
      "step size: 0.2951911983068622\n",
      "attention cost: 10.964468486072613\n",
      "MODEL TYPE: null_model_1\n",
      "exp param: 0.07722062765582796\n",
      "vm param: 5.891395269695343\n",
      "step size: nan\n",
      "attention cost: nan\n"
     ]
    }
   ],
   "source": [
    "for model_type in df_bestfit['agent_type'].drop_duplicates():\n",
    "    df_model = df_bestfit[df_bestfit['agent_type'] == model_type]\n",
    "    print(f\"MODEL TYPE: {model_type}\")\n",
    "    print(f\"exp param: {df_model['exp_param'].mean()}\")\n",
    "    print(f\"vm param: {df_model['vm_param'].mean()}\")\n",
    "    print(f\"step size: {df_model['step_size'].mean()}\")\n",
    "    print(f\"attention cost: {df_model['attention_cost'].mean()}\")"
   ]
  },
  {
   "cell_type": "code",
   "execution_count": 11,
   "metadata": {},
   "outputs": [
    {
     "name": "stdout",
     "output_type": "stream",
     "text": [
      "7.702702702702703\n",
      "8.349995516635357\n"
     ]
    }
   ],
   "source": [
    "# print the mean evidence strength (difference in AIC between top two models for a given participant)\n",
    "print(np.mean(evidence_strengths))\n",
    "print(np.std(evidence_strengths))"
   ]
  },
  {
   "cell_type": "code",
   "execution_count": 12,
   "metadata": {},
   "outputs": [
    {
     "data": {
      "image/png": "[encoded data removed]",
      "text/plain": [
       "<Figure size 432x288 with 1 Axes>"
      ]
     },
     "metadata": {
      "needs_background": "light"
     },
     "output_type": "display_data"
    }
   ],
   "source": [
    "bins=(0,3,6,9,12,15)\n",
    "fig, ax = plt.subplots()\n",
    "ax.hist(np.clip(evidence_strengths, bins[0], bins[-1]), bins=bins)\n",
    "ax.set_xticks(np.arange(1.5,15,3))\n",
    "ax.set_xticklabels((\"0-3\", \"3-6\", \"6-9\", \"9-12\", \"12+\"))\n",
    "ax.set_xlabel(\"AIC Difference (best vs second best)\")\n",
    "ax.set_ylabel(\"# Participants\")\n",
    "ax.set_title(\"Strength of evidence for best-fitting model over second-best\")\n",
    "fig.savefig(\"../../figures/evidence_strength_best_second.pdf\", bbox_inches=\"tight\")"
   ]
  },
  {
   "cell_type": "code",
   "execution_count": 13,
   "metadata": {},
   "outputs": [
    {
     "data": {
      "image/png": "[encoded data removed]",
      "text/plain": [
       "<Figure size 432x288 with 1 Axes>"
      ]
     },
     "metadata": {
      "needs_background": "light"
     },
     "output_type": "display_data"
    }
   ],
   "source": [
    "bins=(0,33,67,100,133,167)\n",
    "fig, ax = plt.subplots()\n",
    "ax.hist(np.clip(evidence_vs_lqr, bins[0], bins[-1]), bins=bins)\n",
    "ax.set_xticks(np.arange(16.5,167,33))\n",
    "ax.set_xticklabels((\"0-33\", \"33-67\", \"67-100\", \"100-133\", \"133+\"))\n",
    "ax.set_xlabel(\"AIC Difference (best vs LQR)\")\n",
    "ax.set_ylabel(\"# Participants\")\n",
    "ax.set_title(\"Strength of evidence for best-fitting model over LQR\")\n",
    "fig.savefig(\"../../figures/evidence_strength_best_lqr.pdf\", bbox_inches=\"tight\")"
   ]
  },
  {
   "cell_type": "code",
   "execution_count": 14,
   "metadata": {},
   "outputs": [
    {
     "data": {
      "text/plain": [
       "93.04504504504504"
      ]
     },
     "execution_count": 14,
     "metadata": {},
     "output_type": "execute_result"
    }
   ],
   "source": [
    "np.mean(evidence_vs_lqr)"
   ]
  },
  {
   "cell_type": "code",
   "execution_count": 15,
   "metadata": {},
   "outputs": [
    {
     "data": {
      "text/plain": [
       "0"
      ]
     },
     "execution_count": 15,
     "metadata": {},
     "output_type": "execute_result"
    }
   ],
   "source": [
    "len([x for x in evidence_vs_lqr if x <= -16])"
   ]
  },
  {
   "cell_type": "code",
   "execution_count": 16,
   "metadata": {},
   "outputs": [
    {
     "data": {
      "text/plain": [
       "0"
      ]
     },
     "execution_count": 16,
     "metadata": {},
     "output_type": "execute_result"
    }
   ],
   "source": [
    "len([x for x in evidence_strengths if x <= -4])"
   ]
  },
  {
   "cell_type": "code",
   "execution_count": 17,
   "metadata": {},
   "outputs": [],
   "source": [
    "best_fit_pps = {}\n",
    "for agent_type in ['sparse_max_discrete', 'sparse_max_continuous', 'hill_climbing']:\n",
    "    best_fit_pps[agent_type] = [pp_id for pp_id in pp_nrs if participant_to_best_model[pp_id] == agent_type]"
   ]
  },
  {
   "cell_type": "code",
   "execution_count": 18,
   "metadata": {},
   "outputs": [],
   "source": [
    "non_null_agent_types = ['sparse_max_discrete', 'sparse_max_continuous', 'hill_climbing']"
   ]
  },
  {
   "cell_type": "markdown",
   "metadata": {},
   "source": [
    "## Qualitative Analysis"
   ]
  },
  {
   "cell_type": "code",
   "execution_count": 19,
   "metadata": {},
   "outputs": [],
   "source": [
    "raw_pp_data_path = '../../data/experimental_data/experiment_actions.csv'\n",
    "df_pps = pd.read_csv(raw_pp_data_path)"
   ]
  },
  {
   "cell_type": "code",
   "execution_count": 20,
   "metadata": {},
   "outputs": [],
   "source": [
    "df_last = df_pps.loc[df_pps.groupby(\"pp_id\")['Unnamed: 0'].idxmax()]"
   ]
  },
  {
   "cell_type": "markdown",
   "metadata": {},
   "source": [
    "Get scores by which model explains each pp best"
   ]
  },
  {
   "cell_type": "code",
   "execution_count": 21,
   "metadata": {},
   "outputs": [],
   "source": [
    "scores_by_best_model = defaultdict(list)\n",
    "for index, row in df_last.iterrows():\n",
    "    scores_by_best_model[participant_to_best_model[row['pp_id']]].append(np.sqrt(row['total_cost']))"
   ]
  },
  {
   "cell_type": "code",
   "execution_count": 22,
   "metadata": {},
   "outputs": [
    {
     "name": "stdout",
     "output_type": "stream",
     "text": [
      "sparse_lqr median: 111.96334221520902\n",
      "sparse_lqr mean: 118.04459273084535\n",
      "m sem: 13.742447412248362\n",
      "sparse_max_continuous median: 128.24804643419284\n",
      "sparse_max_continuous mean: 203.3413888477111\n",
      "m sem: 71.98816157790736\n",
      "sparse_max_discrete median: 25.827117531772686\n",
      "sparse_max_discrete mean: 87.14009059534783\n",
      "m sem: 26.573744220556904\n",
      "null_model_1 median: 143.8314291106085\n",
      "null_model_1 mean: 217.70339144037797\n",
      "m sem: 95.79005866393126\n",
      "hill_climbing median: 161.59439965543362\n",
      "hill_climbing mean: 368.32940892770574\n",
      "m sem: 204.15172711681456\n",
      "null_model_2 median: 536.2429859681149\n",
      "null_model_2 mean: 18571.867525793183\n",
      "m sem: 18215.430374495605\n"
     ]
    }
   ],
   "source": [
    "for m in scores_by_best_model:\n",
    "    print(f\"{m} median: {np.median(scores_by_best_model[m])}\")\n",
    "    print(f\"{m} mean: {np.mean(scores_by_best_model[m])}\")\n",
    "    print(f\"m sem: {stats.sem(scores_by_best_model[m])}\")"
   ]
  },
  {
   "cell_type": "code",
   "execution_count": 23,
   "metadata": {},
   "outputs": [
    {
     "data": {
      "text/plain": [
       "KruskalResult(statistic=4.690720873329582, pvalue=0.030325922121541355)"
      ]
     },
     "execution_count": 23,
     "metadata": {},
     "output_type": "execute_result"
    }
   ],
   "source": [
    "stats.kruskal(scores_by_best_model['sparse_lqr'], scores_by_best_model['hill_climbing'])"
   ]
  },
  {
   "cell_type": "markdown",
   "metadata": {},
   "source": [
    "Get descriptive stats like number of variables manipulated."
   ]
  },
  {
   "cell_type": "code",
   "execution_count": 24,
   "metadata": {},
   "outputs": [
    {
     "name": "stdout",
     "output_type": "stream",
     "text": [
      "68\n"
     ]
    }
   ],
   "source": [
    "print(len(scores_by_best_model['sparse_lqr']) + len(scores_by_best_model['hill_climbing']))"
   ]
  },
  {
   "cell_type": "markdown",
   "metadata": {},
   "source": [
    "Compute the number of variables manipulated and input norm standard deviation for humans."
   ]
  },
  {
   "cell_type": "code",
   "execution_count": 25,
   "metadata": {},
   "outputs": [
    {
     "name": "stdout",
     "output_type": "stream",
     "text": [
      "mean number of variables manipulated: 2.0631199278629397\n",
      "95% CI number of variables manipulated: (1.99701877926644, 2.1292210764594395)\n",
      "median number of variables manipulated: 2.0\n",
      "iqr number of variables manipulated: 2.0\n",
      "number of all zero inputs: 56\n",
      "norm med: 134.0\n",
      "norm iqr: 759.0\n",
      "norm std: 3482646.332299877\n"
     ]
    }
   ],
   "source": [
    "n_variables_manipulated = []\n",
    "n_all_zero = 0\n",
    "norms = []\n",
    "for index, row in df_pps.iterrows():\n",
    "    exogenous = literal_eval(row['exogenous_input'])\n",
    "    n_manipulated = len([x for x in exogenous if x != 0])\n",
    "    if exogenous == [0., 0., 0., 0.]:\n",
    "        n_all_zero += 1\n",
    "    n_variables_manipulated.append(n_manipulated)\n",
    "    norms.append(sum([x**2 for x in exogenous]))\n",
    "    \n",
    "mean_manip = np.mean(n_variables_manipulated)\n",
    "ci_manip = 1.96 *stats.sem(n_variables_manipulated)\n",
    "print(f\"mean number of variables manipulated: {mean_manip}\")\n",
    "print(f\"95% CI number of variables manipulated: {(mean_manip - ci_manip, mean_manip + ci_manip)}\")\n",
    "print(f\"median number of variables manipulated: {np.median(n_variables_manipulated)}\")\n",
    "print(f\"iqr number of variables manipulated: {stats.iqr(n_variables_manipulated)}\")\n",
    "print(f\"number of all zero inputs: {n_all_zero}\")\n",
    "print(f\"norm med: {np.median(norms)}\")\n",
    "print(f\"norm iqr: {stats.iqr(norms)}\")\n",
    "print(f\"norm std: {np.std(norms)}\")"
   ]
  },
  {
   "cell_type": "code",
   "execution_count": 26,
   "metadata": {
    "tags": []
   },
   "outputs": [],
   "source": [
    "all_norm_meds = []\n",
    "all_norm_stds = []\n",
    "for pp in df_pps['pp_id'].drop_duplicates():\n",
    "    norms = []\n",
    "    for index, row in df_pps[df_pps['pp_id'] == pp].iterrows():\n",
    "        exogenous = literal_eval(row['exogenous_input']) \n",
    "        norm = np.sqrt(sum([x**2 for x in exogenous]))\n",
    "        norms.append(norm)\n",
    "    # print(f\"median norm: {np.median(norms)}\")\n",
    "    # print(f\"std norm: {np.std(norms)}\")\n",
    "    all_norm_stds.append(np.std(norms))\n",
    "    all_norm_meds.append(np.median(norms))"
   ]
  },
  {
   "cell_type": "code",
   "execution_count": 27,
   "metadata": {},
   "outputs": [
    {
     "data": {
      "text/plain": [
       "11.269078289549748"
      ]
     },
     "execution_count": 27,
     "metadata": {},
     "output_type": "execute_result"
    }
   ],
   "source": [
    "np.median(all_norm_meds)"
   ]
  },
  {
   "cell_type": "code",
   "execution_count": 28,
   "metadata": {},
   "outputs": [
    {
     "data": {
      "text/plain": [
       "14.681139904908841"
      ]
     },
     "execution_count": 28,
     "metadata": {},
     "output_type": "execute_result"
    }
   ],
   "source": [
    "np.median(all_norm_stds)"
   ]
  }
 ],
 "metadata": {
  "kernelspec": {
   "display_name": "Python 3",
   "language": "python",
   "name": "python3"
  },
  "language_info": {
   "codemirror_mode": {
    "name": "ipython",
    "version": 3
   },
   "file_extension": ".py",
   "mimetype": "text/x-python",
   "name": "python",
   "nbconvert_exporter": "python",
   "pygments_lexer": "ipython3",
   "version": "3.9.1"
  }
 },
 "nbformat": 4,
 "nbformat_minor": 4
}
