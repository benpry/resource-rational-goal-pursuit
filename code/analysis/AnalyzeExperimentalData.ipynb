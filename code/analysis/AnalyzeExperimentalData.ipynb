{
 "cells": [
  {
   "cell_type": "code",
   "execution_count": 1,
   "metadata": {},
   "outputs": [],
   "source": [
    "import pandas as pd\n",
    "import numpy as np\n",
    "from scipy import stats\n",
    "from ast import literal_eval\n",
    "from sklearn.cluster import DBSCAN\n",
    "from sklearn.mixture import GaussianMixture\n",
    "from sklearn.manifold import TSNE\n",
    "from sklearn.decomposition import PCA\n",
    "import matplotlib.pyplot as plt\n",
    "from collections import defaultdict"
   ]
  },
  {
   "cell_type": "markdown",
   "metadata": {},
   "source": [
    "Read each fitting results file and print the fitting criteria and mean parameters"
   ]
  },
  {
   "cell_type": "code",
   "execution_count": 2,
   "metadata": {},
   "outputs": [
    {
     "name": "stdout",
     "output_type": "stream",
     "text": [
      "agent type: lqr, n=111\n",
      "lqr llh: -13578.071309999998\n",
      "lqr AIC: 27600.142619999995\n",
      "lqr llh mean: -122.32496675675671\n",
      "lqr AIC mean: 248.64993351351342\n",
      "Unnamed: 0        0.000000\n",
      "Unnamed: 0.1      0.000000\n",
      "exp_param         0.009410\n",
      "vm_param          1.455087\n",
      "ll             -122.324967\n",
      "AIC             248.649934\n",
      "dtype: float64\n",
      "agent type: sparse_lqr, n=111\n",
      "sparse_lqr llh: -9131.236567000002\n",
      "sparse_lqr AIC: 18706.473134000003\n",
      "sparse_lqr llh mean: -82.2633924954955\n",
      "sparse_lqr AIC mean: 168.526784990991\n",
      "Unnamed: 0          0.000000\n",
      "Unnamed: 0.1        0.000000\n",
      "attention_cost    112.040393\n",
      "exp_param           0.046089\n",
      "vm_param            3.900344\n",
      "ll                -82.263392\n",
      "AIC               168.526785\n",
      "dtype: float64\n",
      "agent type: sparse_max_discrete, n=111\n",
      "sparse_max_discrete llh: -8600.97743\n",
      "sparse_max_discrete AIC: 18089.95486\n",
      "sparse_max_discrete llh mean: -77.48628315315312\n",
      "sparse_max_discrete AIC mean: 162.97256630630625\n",
      "attention cost\n",
      "13.411254161341182\n",
      "9.898086660220018\n",
      "step size\n",
      "0.45014902945240204\n",
      "0.4633281316669575\n",
      "Unnamed: 0          0.000000\n",
      "Unnamed: 0.1        0.000000\n",
      "attention_cost     13.411254\n",
      "exp_param           0.069754\n",
      "step_size           0.450149\n",
      "vm_param            4.393195\n",
      "ll                -77.486283\n",
      "AIC               162.972566\n",
      "dtype: float64\n",
      "agent type: sparse_max_continuous, n=111\n",
      "sparse_max_continuous llh: -8853.238673999998\n",
      "sparse_max_continuous AIC: 18594.477347999997\n",
      "sparse_max_continuous llh mean: -79.75890697297295\n",
      "sparse_max_continuous AIC mean: 167.51781394594587\n",
      "attention cost\n",
      "11.160088779558148\n",
      "9.227623036842532\n",
      "step size\n",
      "0.2234710568931308\n",
      "0.33696957721254617\n",
      "Unnamed: 0          0.000000\n",
      "Unnamed: 0.1        0.000000\n",
      "attention_cost     11.160089\n",
      "exp_param           0.054128\n",
      "step_size           0.223471\n",
      "vm_param            4.451541\n",
      "ll                -79.758907\n",
      "AIC               167.517814\n",
      "dtype: float64\n",
      "agent type: null_model_1, n=111\n",
      "null_model_1 llh: -10081.9385229\n",
      "null_model_1 AIC: 21051.8770458\n",
      "null_model_1 llh mean: -90.82827498108105\n",
      "null_model_1 AIC mean: 189.65654996216213\n",
      "Unnamed: 0        0.000000\n",
      "Unnamed: 0.1      0.000000\n",
      "b                 4.760409\n",
      "exp_param         0.040271\n",
      "n                 2.259542\n",
      "vm_param          3.225898\n",
      "ll              -90.828275\n",
      "AIC             189.656550\n",
      "dtype: float64\n",
      "agent type: null_model_2, n=111\n",
      "null_model_2 llh: -9261.491914\n",
      "null_model_2 AIC: 18966.983828\n",
      "null_model_2 llh mean: -83.43686409009005\n",
      "null_model_2 AIC mean: 170.87372818018014\n",
      "Unnamed: 0        0.000000\n",
      "Unnamed: 0.1      0.000000\n",
      "exp_param         0.040278\n",
      "vm_param          3.914984\n",
      "ll              -83.436864\n",
      "AIC             170.873728\n",
      "dtype: float64\n",
      "agent type: hill_climbing, n=111\n",
      "hill_climbing llh: -8742.979672000001\n",
      "hill_climbing AIC: 18151.959344000003\n",
      "hill_climbing llh mean: -78.76558263063065\n",
      "hill_climbing AIC mean: 163.53116526126126\n",
      "Unnamed: 0          0.000000\n",
      "Unnamed: 0.1        0.000000\n",
      "attention_cost      0.000000\n",
      "exp_param           0.050512\n",
      "step_size           0.269263\n",
      "vm_param            4.317938\n",
      "ll                -78.765583\n",
      "AIC               163.531165\n",
      "dtype: float64\n"
     ]
    }
   ],
   "source": [
    "DATA_DIR = \"../../data/fitting_results\"\n",
    "FIGURE_DIR = \"../../figures\"\n",
    "all_model_dfs = {}\n",
    "for agent_type in ['lqr', 'sparse_lqr', 'sparse_max_discrete', 'sparse_max_continuous', 'null_model_1', 'null_model_2', 'hill_climbing']:\n",
    "    df = pd.read_csv(f\"{DATA_DIR}/fitting_results_{agent_type}.csv\")\n",
    "    print(f\"agent type: {agent_type}, n={len(df)}\")\n",
    "    all_model_dfs[agent_type] = df\n",
    "    print(f\"{agent_type} llh: {df['ll'].sum()}\")\n",
    "    print(f\"{agent_type} AIC: {df['AIC'].sum()}\")\n",
    "    print(f\"{agent_type} llh mean: {df['ll'].mean()}\")\n",
    "    print(f\"{agent_type} AIC mean: {df['AIC'].mean()}\")\n",
    "    if agent_type in ('sparse_max_discrete', 'sparse_max_continuous'):\n",
    "        print(\"attention cost\")\n",
    "        print(df['attention_cost'].mean())\n",
    "        print(df['attention_cost'].std())\n",
    "        print(\"step size\")\n",
    "        print(df['step_size'].mean())\n",
    "        print(df['step_size'].std())\n",
    "    elif agent_type == \"nul_model_1\":\n",
    "        print(\"n\")\n",
    "        print(df['n'].mean())\n",
    "        print(\"b\")\n",
    "        print(df['b'].mean())\n",
    "    print(df.mean())"
   ]
  },
  {
   "cell_type": "code",
   "execution_count": 3,
   "metadata": {},
   "outputs": [],
   "source": [
    "pp_nrs = pd.read_csv('../../data/experimental_data/experiment_ppids.csv')['id']"
   ]
  },
  {
   "cell_type": "markdown",
   "metadata": {},
   "source": [
    "Get the number of participants best fit by each model, as well as the strength of evidence for the best model over the second-best model for each participant"
   ]
  },
  {
   "cell_type": "code",
   "execution_count": 4,
   "metadata": {},
   "outputs": [
    {
     "name": "stdout",
     "output_type": "stream",
     "text": [
      "defaultdict(<class 'int'>, {'null_model_2': 4, 'sparse_max_discrete': 33, 'sparse_lqr': 23, 'sparse_max_continuous': 12, 'hill_climbing': 32, 'null_model_1': 7})\n"
     ]
    }
   ],
   "source": [
    "evidence_strengths = []\n",
    "evidence_vs_lqr = []\n",
    "models_by_best_fitting_pps = defaultdict(int)\n",
    "participant_to_best_model = {}\n",
    "for pp_id in pp_nrs:\n",
    "    participant_fits = {}\n",
    "    for agent_type in ['lqr', 'sparse_lqr', 'sparse_max_discrete', 'sparse_max_continuous', 'null_model_1', 'null_model_2', 'hill_climbing']:\n",
    "        df = all_model_dfs[agent_type]\n",
    "\n",
    "        if len(df[df['pp_id'] == pp_id]['AIC']) != 1:\n",
    "            print(\"len:\", len(df[df['pp_id'] == pp_id]['AIC']))\n",
    "            break\n",
    "        participant_fits[agent_type] = int(df[df['pp_id'] == pp_id]['AIC'])\n",
    "\n",
    "    if len(df[df['pp_id'] == pp_id]) != 1:\n",
    "        continue\n",
    "    \n",
    "    sorted_fits = sorted(participant_fits.values())\n",
    "    evidence_strengths.append(sorted_fits[1] - sorted_fits[0])\n",
    "    best_agent = min(participant_fits, key=participant_fits.get)\n",
    "    \n",
    "    evidence_vs_lqr.append(participant_fits['lqr'] - participant_fits[best_agent])\n",
    "    \n",
    "    models_by_best_fitting_pps[best_agent] += 1\n",
    "    participant_to_best_model[pp_id] = best_agent\n",
    "\n",
    "print(models_by_best_fitting_pps)"
   ]
  },
  {
   "cell_type": "markdown",
   "metadata": {},
   "source": [
    "Create csv files for Bayesian model selection (done using SPM8)"
   ]
  },
  {
   "cell_type": "code",
   "execution_count": 5,
   "metadata": {},
   "outputs": [],
   "source": [
    "df_aics = pd.DataFrame()\n",
    "for df_type in all_model_dfs:\n",
    "    # convert AICs to log model evidence format\n",
    "    df_aics[df_type] = all_model_dfs[df_type]['AIC'].apply(lambda x: -x/2)\n",
    "df_aics.to_csv(f\"{DATA_DIR}/aic_lme.csv\")\n",
    "\n",
    "n_params = {\"null_model_2\": 2, \"null_model_1\": 2, \"lqr\": 2, \"sparse_lqr\": 3, \"hill_climbing\": 3, \"sparse_max_continuous\": 4, \"sparse_max_discrete\": 4}\n",
    "df_bics = pd.DataFrame()\n",
    "for df_type in all_model_dfs:\n",
    "    # convert BICs to log model evidence format\n",
    "    df_bics[df_type] = all_model_dfs[df_type][\"ll\"].apply(lambda x: - (n_params[df_type] * np.log(10) - 2 * x) / 2)\n",
    "df_bics.to_csv(f\"{DATA_DIR}/bic_lme.csv\")"
   ]
  },
  {
   "cell_type": "code",
   "execution_count": 6,
   "metadata": {},
   "outputs": [],
   "source": [
    "# make a csv file with the best-fitting model and parameters for each participant\n",
    "df_bestfit = pd.DataFrame()\n",
    "for pp_id in pp_nrs:\n",
    "    best_model_type = participant_to_best_model[pp_id]\n",
    "    df = all_model_dfs[best_model_type]\n",
    "    row = df[df['pp_id'] == pp_id]\n",
    "    df_bestfit = df_bestfit.append(row, ignore_index=True)\n",
    "df_bestfit.to_csv(f\"{DATA_DIR}/best_fitting_models.csv\")"
   ]
  },
  {
   "cell_type": "markdown",
   "metadata": {},
   "source": [
    "Get the mean best-fitting parameter for each model type"
   ]
  },
  {
   "cell_type": "code",
   "execution_count": 7,
   "metadata": {},
   "outputs": [
    {
     "name": "stdout",
     "output_type": "stream",
     "text": [
      "MODEL TYPE: null_model_2\n",
      "exp param: 0.04663566551684295\n",
      "vm param: 8.50941061248169\n",
      "step size: nan\n",
      "attention cost: nan\n",
      "n: nan\n",
      "b: nan\n",
      "MODEL TYPE: sparse_max_discrete\n",
      "exp param: 0.13065888216008936\n",
      "vm param: 3.5083305968190714\n",
      "step size: 0.7458438706501337\n",
      "attention cost: 13.970867261279396\n",
      "n: nan\n",
      "b: nan\n",
      "MODEL TYPE: sparse_lqr\n",
      "exp param: 0.046244209966391205\n",
      "vm param: 4.291516422291117\n",
      "step size: nan\n",
      "attention cost: 99.51183249790382\n",
      "n: nan\n",
      "b: nan\n",
      "MODEL TYPE: sparse_max_continuous\n",
      "exp param: 0.03977427279843316\n",
      "vm param: 5.60970089579284\n",
      "step size: 0.21712517992011823\n",
      "attention cost: 12.173555886909213\n",
      "n: nan\n",
      "b: nan\n",
      "MODEL TYPE: hill_climbing\n",
      "exp param: 0.050313244044700695\n",
      "vm param: 5.6104891666192955\n",
      "step size: 0.43660822081016487\n",
      "attention cost: 0.0\n",
      "n: nan\n",
      "b: nan\n",
      "MODEL TYPE: null_model_1\n",
      "exp param: 0.07599924320574154\n",
      "vm param: 6.124787996486719\n",
      "step size: nan\n",
      "attention cost: nan\n",
      "n: 1.8571428571428572\n",
      "b: 2.0630009219140084\n"
     ]
    }
   ],
   "source": [
    "for model_type in df_bestfit['agent_type'].drop_duplicates():\n",
    "    df_model = df_bestfit[df_bestfit['agent_type'] == model_type]\n",
    "    print(f\"MODEL TYPE: {model_type}\")\n",
    "    print(f\"exp param: {df_model['exp_param'].mean()}\")\n",
    "    print(f\"vm param: {df_model['vm_param'].mean()}\")\n",
    "    print(f\"step size: {df_model['step_size'].mean()}\")\n",
    "    print(f\"attention cost: {df_model['attention_cost'].mean()}\")\n",
    "    print(f\"n: {np.round(df_model['n']).mean()}\")\n",
    "    print(f\"b: {df_model['b'].mean()}\")"
   ]
  },
  {
   "cell_type": "code",
   "execution_count": 8,
   "metadata": {},
   "outputs": [
    {
     "name": "stdout",
     "output_type": "stream",
     "text": [
      "8.108108108108109\n",
      "8.762482834776572\n"
     ]
    }
   ],
   "source": [
    "# print the mean evidence strength (difference in AIC between top two models for a given participant)\n",
    "print(np.mean(evidence_strengths))\n",
    "print(np.std(evidence_strengths))"
   ]
  },
  {
   "cell_type": "code",
   "execution_count": 9,
   "metadata": {},
   "outputs": [
    {
     "data": {
      "image/png": "[encoded data removed]",
      "text/plain": [
       "<Figure size 432x288 with 1 Axes>"
      ]
     },
     "metadata": {
      "needs_background": "light"
     },
     "output_type": "display_data"
    }
   ],
   "source": [
    "bins=(0,3,6,9,12,15)\n",
    "fig, ax = plt.subplots()\n",
    "ax.hist(np.clip(evidence_strengths, bins[0], bins[-1]), bins=bins)\n",
    "ax.set_xticks(np.arange(1.5,15,3))\n",
    "ax.set_xticklabels((\"0-3\", \"3-6\", \"6-9\", \"9-12\", \"12+\"))\n",
    "ax.set_xlabel(\"AIC Difference (best vs second best)\")\n",
    "ax.set_ylabel(\"# Participants\")\n",
    "ax.set_title(\"Strength of evidence for best-fitting model over second-best\")\n",
    "fig.savefig(\"../../figures/evidence_strength_best_second.pdf\", bbox_inches=\"tight\")"
   ]
  },
  {
   "cell_type": "code",
   "execution_count": 10,
   "metadata": {},
   "outputs": [
    {
     "data": {
      "image/png": "[encoded data removed]",
      "text/plain": [
       "<Figure size 432x288 with 1 Axes>"
      ]
     },
     "metadata": {
      "needs_background": "light"
     },
     "output_type": "display_data"
    }
   ],
   "source": [
    "bins=(0,33,67,100,133,167)\n",
    "fig, ax = plt.subplots()\n",
    "ax.hist(np.clip(evidence_vs_lqr, bins[0], bins[-1]), bins=bins)\n",
    "ax.set_xticks(np.arange(16.5,167,33))\n",
    "ax.set_xticklabels((\"0-33\", \"33-67\", \"67-100\", \"100-133\", \"133+\"))\n",
    "ax.set_xlabel(\"AIC Difference (best vs LQR)\")\n",
    "ax.set_ylabel(\"# Participants\")\n",
    "ax.set_title(\"Strength of evidence for best-fitting model over LQR\")\n",
    "fig.savefig(\"../../figures/evidence_strength_best_lqr.pdf\", bbox_inches=\"tight\")"
   ]
  },
  {
   "cell_type": "code",
   "execution_count": 11,
   "metadata": {},
   "outputs": [
    {
     "data": {
      "text/plain": [
       "93.63063063063063"
      ]
     },
     "execution_count": 11,
     "metadata": {},
     "output_type": "execute_result"
    }
   ],
   "source": [
    "np.mean(evidence_vs_lqr)"
   ]
  },
  {
   "cell_type": "code",
   "execution_count": 12,
   "metadata": {},
   "outputs": [
    {
     "data": {
      "text/plain": [
       "0"
      ]
     },
     "execution_count": 12,
     "metadata": {},
     "output_type": "execute_result"
    }
   ],
   "source": [
    "len([x for x in evidence_vs_lqr if x <= -16])"
   ]
  },
  {
   "cell_type": "code",
   "execution_count": 13,
   "metadata": {},
   "outputs": [
    {
     "data": {
      "text/plain": [
       "0"
      ]
     },
     "execution_count": 13,
     "metadata": {},
     "output_type": "execute_result"
    }
   ],
   "source": [
    "len([x for x in evidence_strengths if x <= -4])"
   ]
  },
  {
   "cell_type": "code",
   "execution_count": 14,
   "metadata": {},
   "outputs": [],
   "source": [
    "best_fit_pps = {}\n",
    "for agent_type in ['sparse_max_discrete', 'sparse_max_continuous', 'hill_climbing']:\n",
    "    best_fit_pps[agent_type] = [pp_id for pp_id in pp_nrs if participant_to_best_model[pp_id] == agent_type]"
   ]
  },
  {
   "cell_type": "code",
   "execution_count": 15,
   "metadata": {},
   "outputs": [],
   "source": [
    "non_null_agent_types = ['sparse_max_discrete', 'sparse_max_continuous', 'hill_climbing']"
   ]
  },
  {
   "cell_type": "markdown",
   "metadata": {},
   "source": [
    "## Qualitative Analysis"
   ]
  },
  {
   "cell_type": "code",
   "execution_count": 16,
   "metadata": {},
   "outputs": [],
   "source": [
    "raw_pp_data_path = '../../data/experimental_data/experiment_actions.csv'\n",
    "df_pps = pd.read_csv(raw_pp_data_path)"
   ]
  },
  {
   "cell_type": "code",
   "execution_count": 17,
   "metadata": {},
   "outputs": [],
   "source": [
    "df_last = df_pps.loc[df_pps.groupby(\"pp_id\")['Unnamed: 0'].idxmax()]"
   ]
  },
  {
   "cell_type": "markdown",
   "metadata": {},
   "source": [
    "Get scores by which model explains each pp best"
   ]
  },
  {
   "cell_type": "code",
   "execution_count": 18,
   "metadata": {},
   "outputs": [],
   "source": [
    "scores_by_best_model = defaultdict(list)\n",
    "for index, row in df_last.iterrows():\n",
    "    scores_by_best_model[participant_to_best_model[row['pp_id']]].append(np.sqrt(row['total_cost']))"
   ]
  },
  {
   "cell_type": "code",
   "execution_count": 19,
   "metadata": {},
   "outputs": [
    {
     "name": "stdout",
     "output_type": "stream",
     "text": [
      "sparse_lqr median: 115.66256957200979\n",
      "sparse_lqr mean: 123.58668358631475\n",
      "m sem: 17.16142711083481\n",
      "sparse_max_continuous median: 158.13452087698988\n",
      "sparse_max_continuous mean: 225.10463850228243\n",
      "m sem: 83.43724645618411\n",
      "sparse_max_discrete median: 68.86254424576542\n",
      "sparse_max_discrete mean: 95.09746197037207\n",
      "m sem: 17.399294383991155\n",
      "null_model_1 median: 143.8314291106085\n",
      "null_model_1 mean: 221.9106576723773\n",
      "m sem: 71.18860597700859\n",
      "hill_climbing median: 155.30708010358734\n",
      "hill_climbing mean: 365.2627247587078\n",
      "m sem: 210.74808739723295\n",
      "null_model_2 median: 601.0280827355973\n",
      "null_model_2 mean: 23203.244891505263\n",
      "m sem: 22743.213179044094\n"
     ]
    }
   ],
   "source": [
    "for m in scores_by_best_model:\n",
    "    print(f\"{m} median: {np.median(scores_by_best_model[m])}\")\n",
    "    print(f\"{m} mean: {np.mean(scores_by_best_model[m])}\")\n",
    "    print(f\"m sem: {stats.sem(scores_by_best_model[m])}\")"
   ]
  },
  {
   "cell_type": "code",
   "execution_count": 20,
   "metadata": {},
   "outputs": [
    {
     "data": {
      "text/plain": [
       "115.66256957200979"
      ]
     },
     "execution_count": 20,
     "metadata": {},
     "output_type": "execute_result"
    }
   ],
   "source": [
    "np.median(scores_by_best_model['sparse_lqr'])"
   ]
  },
  {
   "cell_type": "code",
   "execution_count": 21,
   "metadata": {},
   "outputs": [
    {
     "data": {
      "text/plain": [
       "155.30708010358734"
      ]
     },
     "execution_count": 21,
     "metadata": {},
     "output_type": "execute_result"
    }
   ],
   "source": [
    "np.median(scores_by_best_model['hill_climbing'])"
   ]
  },
  {
   "cell_type": "code",
   "execution_count": 42,
   "metadata": {},
   "outputs": [],
   "source": [
    "def bootstrap_ci(data, n=1000000):\n",
    "    all_medians = []\n",
    "    for i in range(n):\n",
    "        bs_data = np.random.choice(data, len(data), replace=True)\n",
    "        med = np.median(bs_data)\n",
    "        all_medians.append(med)\n",
    "    all_medians = np.array(all_medians)\n",
    "    lower_bound = np.percentile(all_medians, 2.5)\n",
    "    upper_bound = np.percentile(all_medians, 97.5)\n",
    "    \n",
    "    return lower_bound, upper_bound"
   ]
  },
  {
   "cell_type": "code",
   "execution_count": 43,
   "metadata": {},
   "outputs": [
    {
     "name": "stdout",
     "output_type": "stream",
     "text": [
      "sparse_lqr: 115.66256957200979, [90.25940394219319, 129.1154522123514]\n",
      "hill_climbing: 155.30708010358734, [113.97652577738566, 191.47991052205685]\n"
     ]
    }
   ],
   "source": [
    "for model_type in (\"sparse_lqr\", \"hill_climbing\"):\n",
    "    scores = scores_by_best_model[model_type]\n",
    "    lower_bound, upper_bound = bootstrap_ci(scores)\n",
    "    print(f\"{model_type}: {np.median(scores)}, [{lower_bound}, {upper_bound}]\")"
   ]
  },
  {
   "cell_type": "code",
   "execution_count": 23,
   "metadata": {},
   "outputs": [
    {
     "data": {
      "text/plain": [
       "KruskalResult(statistic=2.153338509316768, pvalue=0.1422602574730991)"
      ]
     },
     "execution_count": 23,
     "metadata": {},
     "output_type": "execute_result"
    }
   ],
   "source": [
    "stats.kruskal(scores_by_best_model['sparse_lqr'], scores_by_best_model['hill_climbing'])"
   ]
  },
  {
   "cell_type": "markdown",
   "metadata": {},
   "source": [
    "Get descriptive stats like number of variables manipulated."
   ]
  },
  {
   "cell_type": "code",
   "execution_count": 24,
   "metadata": {},
   "outputs": [
    {
     "name": "stdout",
     "output_type": "stream",
     "text": [
      "55\n"
     ]
    }
   ],
   "source": [
    "print(len(scores_by_best_model['sparse_lqr']) + len(scores_by_best_model['hill_climbing']))"
   ]
  },
  {
   "cell_type": "markdown",
   "metadata": {},
   "source": [
    "Compute the number of variables manipulated and input norm standard deviation for humans."
   ]
  },
  {
   "cell_type": "code",
   "execution_count": 25,
   "metadata": {},
   "outputs": [
    {
     "name": "stdout",
     "output_type": "stream",
     "text": [
      "mean number of variables manipulated: 2.0631199278629397\n",
      "95% CI number of variables manipulated: (1.99701877926644, 2.1292210764594395)\n",
      "median number of variables manipulated: 2.0\n",
      "iqr number of variables manipulated: 2.0\n",
      "number of all zero inputs: 56\n",
      "norm med: 134.0\n",
      "norm iqr: 759.0\n",
      "norm std: 3482646.332299877\n"
     ]
    }
   ],
   "source": [
    "n_variables_manipulated = []\n",
    "n_all_zero = 0\n",
    "norms = []\n",
    "for index, row in df_pps.iterrows():\n",
    "    exogenous = literal_eval(row['exogenous_input'])\n",
    "    n_manipulated = len([x for x in exogenous if x != 0])\n",
    "    if exogenous == [0., 0., 0., 0.]:\n",
    "        n_all_zero += 1\n",
    "    n_variables_manipulated.append(n_manipulated)\n",
    "    norms.append(sum([x**2 for x in exogenous]))\n",
    "    \n",
    "mean_manip = np.mean(n_variables_manipulated)\n",
    "ci_manip = 1.96 *stats.sem(n_variables_manipulated)\n",
    "print(f\"mean number of variables manipulated: {mean_manip}\")\n",
    "print(f\"95% CI number of variables manipulated: {(mean_manip - ci_manip, mean_manip + ci_manip)}\")\n",
    "print(f\"median number of variables manipulated: {np.median(n_variables_manipulated)}\")\n",
    "print(f\"iqr number of variables manipulated: {stats.iqr(n_variables_manipulated)}\")\n",
    "print(f\"number of all zero inputs: {n_all_zero}\")\n",
    "print(f\"norm med: {np.median(norms)}\")\n",
    "print(f\"norm iqr: {stats.iqr(norms)}\")\n",
    "print(f\"norm std: {np.std(norms)}\")"
   ]
  },
  {
   "cell_type": "code",
   "execution_count": 26,
   "metadata": {
    "tags": []
   },
   "outputs": [],
   "source": [
    "all_norm_meds = []\n",
    "all_norm_stds = []\n",
    "for pp in df_pps['pp_id'].drop_duplicates():\n",
    "    norms = []\n",
    "    for index, row in df_pps[df_pps['pp_id'] == pp].iterrows():\n",
    "        exogenous = literal_eval(row['exogenous_input']) \n",
    "        norm = np.sqrt(sum([x**2 for x in exogenous]))\n",
    "        norms.append(norm)\n",
    "    # print(f\"median norm: {np.median(norms)}\")\n",
    "    # print(f\"std norm: {np.std(norms)}\")\n",
    "    all_norm_stds.append(np.std(norms))\n",
    "    all_norm_meds.append(np.median(norms))"
   ]
  },
  {
   "cell_type": "code",
   "execution_count": 27,
   "metadata": {},
   "outputs": [
    {
     "data": {
      "text/plain": [
       "11.269078289549748"
      ]
     },
     "execution_count": 27,
     "metadata": {},
     "output_type": "execute_result"
    }
   ],
   "source": [
    "np.median(all_norm_meds)"
   ]
  },
  {
   "cell_type": "code",
   "execution_count": 28,
   "metadata": {},
   "outputs": [
    {
     "data": {
      "text/plain": [
       "14.681139904908841"
      ]
     },
     "execution_count": 28,
     "metadata": {},
     "output_type": "execute_result"
    }
   ],
   "source": [
    "np.median(all_norm_stds)"
   ]
  }
 ],
 "metadata": {
  "kernelspec": {
   "display_name": "Python 3",
   "language": "python",
   "name": "python3"
  },
  "language_info": {
   "codemirror_mode": {
    "name": "ipython",
    "version": 3
   },
   "file_extension": ".py",
   "mimetype": "text/x-python",
   "name": "python",
   "nbconvert_exporter": "python",
   "pygments_lexer": "ipython3",
   "version": "3.8.8"
  }
 },
 "nbformat": 4,
 "nbformat_minor": 4
}
