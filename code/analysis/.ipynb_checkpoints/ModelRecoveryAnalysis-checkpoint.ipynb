{
 "cells": [
  {
   "cell_type": "code",
   "execution_count": 1,
   "id": "8c35ee28",
   "metadata": {},
   "outputs": [],
   "source": [
    "import pandas as pd\n",
    "import numpy as np\n",
    "from collections import defaultdict\n",
    "from sklearn.metrics import confusion_matrix, accuracy_score"
   ]
  },
  {
   "cell_type": "code",
   "execution_count": 2,
   "id": "806c1f19",
   "metadata": {
    "tags": []
   },
   "outputs": [],
   "source": [
    "df_best_fit = pd.read_csv(\"../../data/fitting_results/best_fitting_models.csv\")"
   ]
  },
  {
   "cell_type": "markdown",
   "id": "a55ad350",
   "metadata": {},
   "source": [
    "Read the model recovery data"
   ]
  },
  {
   "cell_type": "code",
   "execution_count": 3,
   "id": "a7d1925c",
   "metadata": {},
   "outputs": [
    {
     "name": "stdout",
     "output_type": "stream",
     "text": [
      "missing: 0\n",
      "missing: 14\n",
      "missing: 15\n",
      "missing: 23\n",
      "missing: 46\n",
      "missing: 47\n",
      "missing: 86\n",
      "missing: 89\n",
      "missing: 92\n",
      "missing: 109\n"
     ]
    }
   ],
   "source": [
    "DATA_DIR = \"../../data/model_recovery\"\n",
    "df = pd.DataFrame()\n",
    "for i in range(111):\n",
    "    try:\n",
    "        df_i = pd.read_csv(f\"{DATA_DIR}/recovery_results_{i}.csv\")\n",
    "    except FileNotFoundError:\n",
    "        print(f\"missing: {i}\")\n",
    "        continue\n",
    "    df = df.append(df_i)\n",
    "df.index = range(len(df))"
   ]
  },
  {
   "cell_type": "code",
   "execution_count": 4,
   "id": "e7b4afb7",
   "metadata": {},
   "outputs": [
    {
     "data": {
      "text/plain": [
       "14"
      ]
     },
     "execution_count": 4,
     "metadata": {},
     "output_type": "execute_result"
    }
   ],
   "source": [
    "len(df[df[\"generating_model\"] == \"sparse_max_continuous\"])"
   ]
  },
  {
   "cell_type": "code",
   "execution_count": 5,
   "id": "3a4f5333",
   "metadata": {},
   "outputs": [
    {
     "data": {
      "text/plain": [
       "19"
      ]
     },
     "execution_count": 5,
     "metadata": {},
     "output_type": "execute_result"
    }
   ],
   "source": [
    "len(df[df[\"generating_model\"] == \"sparse_max_discrete\"])"
   ]
  },
  {
   "cell_type": "code",
   "execution_count": 6,
   "id": "f3f7488d",
   "metadata": {},
   "outputs": [],
   "source": [
    "model_names = [\"sparse_max_continuous\", \"sparse_max_discrete\", \"sparse_lqr\", \"lqr\", \"null_model_1\", \"null_model_2\", \"hill_climbing\"]"
   ]
  },
  {
   "cell_type": "code",
   "execution_count": 7,
   "id": "a58ac339",
   "metadata": {},
   "outputs": [],
   "source": [
    "model_types = (\"sparse_max_continuous\", \"sparse_max_discrete\", \"sparse_lqr\", \"lqr\", \"nm1\", \"nm2\", \"hc\")\n",
    "n_params = {\"nm2\": 2, \"nm1\": 4, \"lqr\": 2, \"sparse_lqr\": 3, \"hc\": 3, \"sparse_max_continuous\": 4, \"sparse_max_discrete\": 4}\n",
    "df_aic = pd.DataFrame()\n",
    "df_aic[\"situation\"] = df[\"situation\"]\n",
    "df_aic[\"generating_model\"] = df[\"generating_model\"]\n",
    "for model_type in model_types:\n",
    "    df_aic[model_type] = df[model_type].apply(lambda x: 2 * n_params[model_type] - 2 * x)"
   ]
  },
  {
   "cell_type": "markdown",
   "id": "6ad39adf",
   "metadata": {},
   "source": [
    "Print which models' data is classified as coming from which other models"
   ]
  },
  {
   "cell_type": "code",
   "execution_count": 8,
   "id": "e3a42d23",
   "metadata": {},
   "outputs": [
    {
     "name": "stdout",
     "output_type": "stream",
     "text": [
      "Generating model: SPARSE_MAX_CONTINUOUS\n",
      "n generating: 14\n",
      "predicted models:\n",
      "sparse_max_continuous: 9\n",
      "hill_climbing: 2\n",
      "sparse_max_discrete: 2\n",
      "null_model_2: 1\n",
      "Generating model: SPARSE_MAX_DISCRETE\n",
      "n generating: 19\n",
      "predicted models:\n",
      "sparse_max_discrete: 13\n",
      "null_model_2: 4\n",
      "sparse_max_continuous: 1\n",
      "hill_climbing: 1\n",
      "Generating model: SPARSE_LQR\n",
      "n generating: 35\n",
      "predicted models:\n",
      "sparse_lqr: 24\n",
      "null_model_2: 11\n",
      "Generating model: LQR\n",
      "n generating: 0\n",
      "predicted models:\n",
      "Generating model: NULL_MODEL_1\n",
      "n generating: 0\n",
      "predicted models:\n",
      "Generating model: NULL_MODEL_2\n",
      "n generating: 0\n",
      "predicted models:\n",
      "Generating model: HILL_CLIMBING\n",
      "n generating: 33\n",
      "predicted models:\n",
      "hill_climbing: 33\n"
     ]
    }
   ],
   "source": [
    "all_true = []\n",
    "all_pred = []\n",
    "for model_name in model_names:\n",
    "    print(f\"Generating model: {model_name.upper()}\")\n",
    "    df_model = df_aic[df_aic[\"generating_model\"] == model_name].reset_index().drop(\"index\", axis=1)\n",
    "    print(f\"n generating: {len(df_model)}\")\n",
    "    predicted_models = defaultdict(int)\n",
    "    for index, row in df_model.iterrows():\n",
    "        model_performances = list(df_model.iloc[index, 2:])\n",
    "        best_model_idx = np.argmin(model_performances)\n",
    "        predicted_models[model_names[best_model_idx]] += 1\n",
    "        all_true.append(model_name)\n",
    "        all_pred.append(model_names[best_model_idx])\n",
    "    print(\"predicted models:\")\n",
    "    for model in predicted_models:\n",
    "        print(f\"{model}: {predicted_models[model]}\")"
   ]
  },
  {
   "cell_type": "code",
   "execution_count": 9,
   "id": "8328bb0d",
   "metadata": {},
   "outputs": [
    {
     "data": {
      "text/plain": [
       "0.7821782178217822"
      ]
     },
     "execution_count": 9,
     "metadata": {},
     "output_type": "execute_result"
    }
   ],
   "source": [
    "accuracy_score(all_true, all_pred)"
   ]
  },
  {
   "cell_type": "code",
   "execution_count": 10,
   "id": "344e50d8",
   "metadata": {},
   "outputs": [
    {
     "data": {
      "text/plain": [
       "array([[33,  0,  0,  0,  0],\n",
       "       [ 0,  0,  0,  0,  0],\n",
       "       [ 0, 11, 24,  0,  0],\n",
       "       [ 2,  1,  0,  9,  2],\n",
       "       [ 1,  4,  0,  1, 13]], dtype=int64)"
      ]
     },
     "execution_count": 10,
     "metadata": {},
     "output_type": "execute_result"
    }
   ],
   "source": [
    "confusion_matrix(all_true, all_pred)"
   ]
  }
 ],
 "metadata": {
  "kernelspec": {
   "display_name": "Python 3",
   "language": "python",
   "name": "python3"
  },
  "language_info": {
   "codemirror_mode": {
    "name": "ipython",
    "version": 3
   },
   "file_extension": ".py",
   "mimetype": "text/x-python",
   "name": "python",
   "nbconvert_exporter": "python",
   "pygments_lexer": "ipython3",
   "version": "3.8.8"
  }
 },
 "nbformat": 4,
 "nbformat_minor": 5
}
