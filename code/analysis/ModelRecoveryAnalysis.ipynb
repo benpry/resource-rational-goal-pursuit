{
 "cells": [
  {
   "cell_type": "code",
   "execution_count": 1,
   "id": "f3b00ae2",
   "metadata": {},
   "outputs": [],
   "source": [
    "import pandas as pd\n",
    "import numpy as np\n",
    "from collections import defaultdict\n",
    "from sklearn.metrics import confusion_matrix, accuracy_score"
   ]
  },
  {
   "cell_type": "code",
   "execution_count": 2,
   "id": "969ea948",
   "metadata": {
    "tags": []
   },
   "outputs": [],
   "source": [
    "df_best_fit = pd.read_csv(\"../../data/fitting_results/best_fitting_models.csv\")"
   ]
  },
  {
   "cell_type": "markdown",
   "id": "d02535cc",
   "metadata": {},
   "source": [
    "Read the model recovery data"
   ]
  },
  {
   "cell_type": "code",
   "execution_count": 3,
   "id": "de21e030",
   "metadata": {},
   "outputs": [
    {
     "name": "stdout",
     "output_type": "stream",
     "text": [
      "missing: 0\n",
      "missing: 14\n",
      "missing: 15\n",
      "missing: 46\n",
      "missing: 47\n",
      "missing: 48\n",
      "missing: 49\n",
      "missing: 86\n",
      "missing: 89\n",
      "missing: 92\n",
      "missing: 109\n"
     ]
    }
   ],
   "source": [
    "DATA_DIR = \"../../data/model_recovery\"\n",
    "df = pd.DataFrame()\n",
    "for i in range(111):\n",
    "    try:\n",
    "        df_i = pd.read_csv(f\"{DATA_DIR}/recovery_results_{i}.csv\")\n",
    "    except FileNotFoundError:\n",
    "        print(f\"missing: {i}\")\n",
    "        continue\n",
    "    df = df.append(df_i)\n",
    "df.index = range(len(df))"
   ]
  },
  {
   "cell_type": "code",
   "execution_count": 4,
   "id": "9e30399f",
   "metadata": {},
   "outputs": [
    {
     "data": {
      "text/plain": [
       "12"
      ]
     },
     "execution_count": 4,
     "metadata": {},
     "output_type": "execute_result"
    }
   ],
   "source": [
    "len(df[df[\"generating_model\"] == \"sparse_max_continuous\"])"
   ]
  },
  {
   "cell_type": "code",
   "execution_count": 5,
   "id": "474b0b26",
   "metadata": {},
   "outputs": [
    {
     "data": {
      "text/plain": [
       "33"
      ]
     },
     "execution_count": 5,
     "metadata": {},
     "output_type": "execute_result"
    }
   ],
   "source": [
    "len(df[df[\"generating_model\"] == \"sparse_max_discrete\"])"
   ]
  },
  {
   "cell_type": "code",
   "execution_count": 6,
   "id": "fc6497ba",
   "metadata": {},
   "outputs": [],
   "source": [
    "model_names = [\"sparse_max_continuous\", \"sparse_max_discrete\", \"sparse_lqr\", \"lqr\", \"null_model_1\", \"null_model_2\", \"hill_climbing\"]"
   ]
  },
  {
   "cell_type": "code",
   "execution_count": 7,
   "id": "8821d93a",
   "metadata": {},
   "outputs": [],
   "source": [
    "model_types = (\"sparse_max_continuous\", \"sparse_max_discrete\", \"sparse_lqr\", \"lqr\", \"nm1\", \"nm2\", \"hc\")\n",
    "n_params = {\"nm2\": 2, \"nm1\": 4, \"lqr\": 2, \"sparse_lqr\": 3, \"hc\": 3, \"sparse_max_continuous\": 4, \"sparse_max_discrete\": 4}\n",
    "df_aic = pd.DataFrame()\n",
    "df_aic[\"situation\"] = df[\"situation\"]\n",
    "df_aic[\"generating_model\"] = df[\"generating_model\"]\n",
    "for model_type in model_types:\n",
    "    df_aic[model_type] = df[model_type].apply(lambda x: 2 * n_params[model_type] - 2 * x)"
   ]
  },
  {
   "cell_type": "markdown",
   "id": "3c08d99a",
   "metadata": {},
   "source": [
    "Print which models' data is classified as coming from which other models"
   ]
  },
  {
   "cell_type": "code",
   "execution_count": 8,
   "id": "e8d03787",
   "metadata": {},
   "outputs": [
    {
     "name": "stdout",
     "output_type": "stream",
     "text": [
      "Generating model: SPARSE_MAX_CONTINUOUS\n",
      "n generating: 12\n",
      "predicted models:\n",
      "sparse_max_continuous: 6\n",
      "hill_climbing: 4\n",
      "null_model_2: 1\n",
      "sparse_max_discrete: 1\n",
      "Generating model: SPARSE_MAX_DISCRETE\n",
      "n generating: 33\n",
      "predicted models:\n",
      "sparse_max_discrete: 30\n",
      "sparse_max_continuous: 2\n",
      "null_model_2: 1\n",
      "Generating model: SPARSE_LQR\n",
      "n generating: 23\n",
      "predicted models:\n",
      "sparse_lqr: 19\n",
      "null_model_2: 4\n",
      "Generating model: LQR\n",
      "n generating: 0\n",
      "predicted models:\n",
      "Generating model: NULL_MODEL_1\n",
      "n generating: 0\n",
      "predicted models:\n",
      "Generating model: NULL_MODEL_2\n",
      "n generating: 0\n",
      "predicted models:\n",
      "Generating model: HILL_CLIMBING\n",
      "n generating: 32\n",
      "predicted models:\n",
      "hill_climbing: 31\n",
      "sparse_max_continuous: 1\n"
     ]
    }
   ],
   "source": [
    "all_true = []\n",
    "all_pred = []\n",
    "for model_name in model_names:\n",
    "    print(f\"Generating model: {model_name.upper()}\")\n",
    "    df_model = df_aic[df_aic[\"generating_model\"] == model_name].reset_index().drop(\"index\", axis=1)\n",
    "    print(f\"n generating: {len(df_model)}\")\n",
    "    predicted_models = defaultdict(int)\n",
    "    for index, row in df_model.iterrows():\n",
    "        model_performances = list(df_model.iloc[index, 2:])\n",
    "        best_model_idx = np.argmin(model_performances)\n",
    "        predicted_models[model_names[best_model_idx]] += 1\n",
    "        all_true.append(model_name)\n",
    "        all_pred.append(model_names[best_model_idx])\n",
    "    print(\"predicted models:\")\n",
    "    for model in predicted_models:\n",
    "        print(f\"{model}: {predicted_models[model]}\")"
   ]
  },
  {
   "cell_type": "code",
   "execution_count": 9,
   "id": "f17b3fa8",
   "metadata": {},
   "outputs": [
    {
     "data": {
      "text/plain": [
       "0.86"
      ]
     },
     "execution_count": 9,
     "metadata": {},
     "output_type": "execute_result"
    }
   ],
   "source": [
    "accuracy_score(all_true, all_pred)"
   ]
  },
  {
   "cell_type": "code",
   "execution_count": 10,
   "id": "5e21c577",
   "metadata": {},
   "outputs": [
    {
     "data": {
      "text/plain": [
       "array([[31,  0,  0,  1,  0],\n",
       "       [ 0,  0,  0,  0,  0],\n",
       "       [ 0,  4, 19,  0,  0],\n",
       "       [ 4,  1,  0,  6,  1],\n",
       "       [ 0,  1,  0,  2, 30]], dtype=int64)"
      ]
     },
     "execution_count": 10,
     "metadata": {},
     "output_type": "execute_result"
    }
   ],
   "source": [
    "confusion_matrix(all_true, all_pred)"
   ]
  },
  {
   "cell_type": "code",
   "execution_count": null,
   "id": "0fa11319",
   "metadata": {},
   "outputs": [],
   "source": []
  }
 ],
 "metadata": {
  "kernelspec": {
   "display_name": "Python 3",
   "language": "python",
   "name": "python3"
  },
  "language_info": {
   "codemirror_mode": {
    "name": "ipython",
    "version": 3
   },
   "file_extension": ".py",
   "mimetype": "text/x-python",
   "name": "python",
   "nbconvert_exporter": "python",
   "pygments_lexer": "ipython3",
   "version": "3.8.8"
  }
 },
 "nbformat": 4,
 "nbformat_minor": 5
}
