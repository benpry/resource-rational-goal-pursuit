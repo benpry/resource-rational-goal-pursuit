{
 "cells": [
  {
   "cell_type": "code",
   "execution_count": 1,
   "id": "175715d9",
   "metadata": {},
   "outputs": [],
   "source": [
    "import pandas as pd\n",
    "import numpy as np\n",
    "from collections import defaultdict\n",
    "from sklearn.metrics import confusion_matrix, accuracy_score"
   ]
  },
  {
   "cell_type": "markdown",
   "id": "89c7959c",
   "metadata": {},
   "source": [
    "Read the model recovery data"
   ]
  },
  {
   "cell_type": "code",
   "execution_count": 2,
   "id": "134c8140",
   "metadata": {},
   "outputs": [
    {
     "name": "stdout",
     "output_type": "stream",
     "text": [
      "missing: 0\n",
      "missing: 11\n",
      "missing: 15\n",
      "missing: 23\n",
      "missing: 40\n",
      "missing: 42\n",
      "missing: 47\n",
      "missing: 50\n",
      "missing: 55\n",
      "missing: 63\n",
      "missing: 66\n",
      "missing: 73\n",
      "missing: 92\n",
      "missing: 93\n",
      "missing: 99\n",
      "missing: 109\n"
     ]
    }
   ],
   "source": [
    "# read all the model recovery results and compile them into a single df \n",
    "DATA_DIR = \"../../data/model_recovery\"\n",
    "df = pd.DataFrame()\n",
    "for i in range(111):\n",
    "    try:\n",
    "        df_i = pd.read_csv(f\"{DATA_DIR}/recovery_results_{i}.csv\")\n",
    "    except FileNotFoundError:\n",
    "        print(f\"missing: {i}\")\n",
    "        continue\n",
    "    df = df.append(df_i)\n",
    "df.index = range(len(df))"
   ]
  },
  {
   "cell_type": "code",
   "execution_count": 3,
   "id": "626ebc18",
   "metadata": {},
   "outputs": [
    {
     "data": {
      "text/plain": [
       "11"
      ]
     },
     "execution_count": 3,
     "metadata": {},
     "output_type": "execute_result"
    }
   ],
   "source": [
    "len(df[df[\"generating_model\"] == \"sparse_max_continuous\"])"
   ]
  },
  {
   "cell_type": "code",
   "execution_count": 4,
   "id": "d6e55ccd",
   "metadata": {},
   "outputs": [
    {
     "data": {
      "text/plain": [
       "34"
      ]
     },
     "execution_count": 4,
     "metadata": {},
     "output_type": "execute_result"
    }
   ],
   "source": [
    "len(df[df[\"generating_model\"] == \"sparse_max_discrete\"])"
   ]
  },
  {
   "cell_type": "code",
   "execution_count": 5,
   "id": "6cafb166",
   "metadata": {},
   "outputs": [],
   "source": [
    "model_types = (\"sparse_max_continuous\", \"sparse_max_discrete\", \"sparse_lqr\", \"lqr\", \"nm1\", \"nm2\", \"hc\")\n",
    "n_params = {\"nm2\": 2, \"nm1\": 4, \"lqr\": 2, \"sparse_lqr\": 3, \"hc\": 3, \"sparse_max_continuous\": 4, \"sparse_max_discrete\": 4}\n",
    "\n",
    "# compile a dataframe with the AIC of each model on the simulated data\n",
    "df_aic = pd.DataFrame()\n",
    "df_aic[\"situation\"] = df[\"situation\"]\n",
    "df_aic[\"generating_model\"] = df[\"generating_model\"]\n",
    "for model_type in model_types:\n",
    "    df_aic[model_type] = df[model_type].apply(lambda x: 2 * n_params[model_type] - 2 * x)"
   ]
  },
  {
   "cell_type": "code",
   "execution_count": 6,
   "id": "f677e19b",
   "metadata": {},
   "outputs": [
    {
     "data": {
      "text/plain": [
       "situation                [-117.0, 249.0, 246.0, -225.0, 142.0]\n",
       "generating_model                                    sparse_lqr\n",
       "sparse_max_continuous                                69.788818\n",
       "sparse_max_discrete                                  62.089762\n",
       "sparse_lqr                                          -11.532068\n",
       "lqr                                                 126.873504\n",
       "nm1                                                  56.448896\n",
       "nm2                                                  66.337134\n",
       "hc                                                   53.813034\n",
       "Name: 12, dtype: object"
      ]
     },
     "execution_count": 6,
     "metadata": {},
     "output_type": "execute_result"
    }
   ],
   "source": [
    "df_aic.loc[12]"
   ]
  },
  {
   "cell_type": "markdown",
   "id": "edb1298c",
   "metadata": {},
   "source": [
    "Print which models' data is classified as coming from which other models"
   ]
  },
  {
   "cell_type": "code",
   "execution_count": 7,
   "id": "3924894b",
   "metadata": {},
   "outputs": [
    {
     "name": "stdout",
     "output_type": "stream",
     "text": [
      "Generating model: SPARSE_MAX_CONTINUOUS\n",
      "n generating: 11\n",
      "predicted models:\n",
      "sparse_max_continuous: 5\n",
      "lqr: 1\n",
      "hill_climbing: 2\n",
      "null_model_2: 1\n",
      "null_model_1: 1\n",
      "sparse_max_discrete: 1\n",
      "Generating model: SPARSE_MAX_DISCRETE\n",
      "n generating: 34\n",
      "predicted models:\n",
      "sparse_max_discrete: 32\n",
      "null_model_2: 2\n",
      "Generating model: SPARSE_LQR\n",
      "n generating: 17\n",
      "predicted models:\n",
      "null_model_2: 3\n",
      "sparse_lqr: 14\n",
      "Generating model: LQR\n",
      "n generating: 0\n",
      "predicted models:\n",
      "Generating model: NULL_MODEL_1\n",
      "n generating: 0\n",
      "predicted models:\n",
      "Generating model: NULL_MODEL_2\n",
      "n generating: 0\n",
      "predicted models:\n",
      "Generating model: HILL_CLIMBING\n",
      "n generating: 33\n",
      "predicted models:\n",
      "hill_climbing: 33\n"
     ]
    }
   ],
   "source": [
    "all_true = []\n",
    "all_pred = []\n",
    "model_names = (\"sparse_max_continuous\", \"sparse_max_discrete\", \"sparse_lqr\", \"lqr\", \"null_model_1\", \"null_model_2\", \"hill_climbing\") \n",
    "for model_name in model_names:\n",
    "    # print out the name of the generating model\n",
    "    print(f\"Generating model: {model_name.upper()}\")\n",
    "    \n",
    "    # print the counts of each predicted model on data generated from this model\n",
    "    df_model = df_aic[df_aic[\"generating_model\"] == model_name].reset_index().drop(\"index\", axis=1)\n",
    "    print(f\"n generating: {len(df_model)}\")\n",
    "    predicted_models = defaultdict(int)\n",
    "    for index, row in df_model.iterrows():\n",
    "        model_performances = list(df_model.iloc[index, 2:])\n",
    "        best_model_idx = np.argmin(model_performances)\n",
    "        predicted_models[model_names[best_model_idx]] += 1\n",
    "        all_true.append(model_name)\n",
    "        all_pred.append(model_names[best_model_idx])\n",
    "    print(\"predicted models:\")\n",
    "    for model in predicted_models:\n",
    "        print(f\"{model}: {predicted_models[model]}\")"
   ]
  },
  {
   "cell_type": "code",
   "execution_count": 8,
   "id": "48195b49",
   "metadata": {},
   "outputs": [
    {
     "data": {
      "text/plain": [
       "0.8842105263157894"
      ]
     },
     "execution_count": 8,
     "metadata": {},
     "output_type": "execute_result"
    }
   ],
   "source": [
    "accuracy_score(all_true, all_pred)"
   ]
  },
  {
   "cell_type": "code",
   "execution_count": 9,
   "id": "e65ecd70",
   "metadata": {},
   "outputs": [
    {
     "data": {
      "text/plain": [
       "array([[33,  0,  0,  0,  0,  0,  0],\n",
       "       [ 0,  0,  0,  0,  0,  0,  0],\n",
       "       [ 0,  0,  0,  0,  0,  0,  0],\n",
       "       [ 0,  0,  0,  0,  0,  0,  0],\n",
       "       [ 0,  0,  0,  3, 14,  0,  0],\n",
       "       [ 2,  1,  1,  1,  0,  5,  1],\n",
       "       [ 0,  0,  0,  2,  0,  0, 32]], dtype=int64)"
      ]
     },
     "execution_count": 9,
     "metadata": {},
     "output_type": "execute_result"
    }
   ],
   "source": [
    "confusion_matrix(all_true, all_pred)"
   ]
  }
 ],
 "metadata": {
  "kernelspec": {
   "display_name": "Python 3",
   "language": "python",
   "name": "python3"
  },
  "language_info": {
   "codemirror_mode": {
    "name": "ipython",
    "version": 3
   },
   "file_extension": ".py",
   "mimetype": "text/x-python",
   "name": "python",
   "nbconvert_exporter": "python",
   "pygments_lexer": "ipython3",
   "version": "3.8.8"
  }
 },
 "nbformat": 4,
 "nbformat_minor": 5
}
